{
 "cells": [
  {
   "cell_type": "markdown",
   "id": "a7ddbadd-1d72-451d-a47d-bc4d61ca7776",
   "metadata": {},
   "source": [
    "# 1. write a code to reverse a string."
   ]
  },
  {
   "cell_type": "code",
   "execution_count": 1,
   "id": "a7ef281f-09c7-44b6-a706-3cbe34ec2f79",
   "metadata": {},
   "outputs": [
    {
     "data": {
      "text/plain": [
       "'patarp'"
      ]
     },
     "execution_count": 1,
     "metadata": {},
     "output_type": "execute_result"
    }
   ],
   "source": [
    "str = \"pratap\"\n",
    "str[::-1]"
   ]
  },
  {
   "cell_type": "markdown",
   "id": "78941882-4e23-4c74-9ae7-e6eb44f8c8e2",
   "metadata": {},
   "source": [
    "# 2. write a code to count the number of vowels in a string."
   ]
  },
  {
   "cell_type": "code",
   "execution_count": 2,
   "id": "45553bd4-3e07-4aef-9c27-1b229250519f",
   "metadata": {},
   "outputs": [
    {
     "name": "stdin",
     "output_type": "stream",
     "text": [
      "Text:  pratap\n"
     ]
    },
    {
     "name": "stdout",
     "output_type": "stream",
     "text": [
      "Count: 2\n"
     ]
    }
   ],
   "source": [
    "str = input(\"Text: \")\n",
    "\n",
    "count = 0\n",
    "for character in str:\n",
    "    if (character in \"aAeEiIoOuU\"):\n",
    "        count += 1\n",
    "print(\"Count:\",count)"
   ]
  },
  {
   "cell_type": "markdown",
   "id": "6050207e-74d2-4d66-85ae-1273cf5610aa",
   "metadata": {},
   "source": [
    "# 3. write a code to check if a given string is a palindrome or not."
   ]
  },
  {
   "cell_type": "code",
   "execution_count": 3,
   "id": "2651a53a-e292-42ae-9957-236c73dcb638",
   "metadata": {},
   "outputs": [
    {
     "name": "stdin",
     "output_type": "stream",
     "text": [
      "please enter the string:  madam\n"
     ]
    },
    {
     "name": "stdout",
     "output_type": "stream",
     "text": [
      "The string is palindrome.\n"
     ]
    }
   ],
   "source": [
    "string = input(\"please enter the string: \")\n",
    "def palindrome(string):\n",
    "    if(string == string[::-1]):\n",
    "        print(\"The string is palindrome.\")\n",
    "    else:\n",
    "         print(\"The string is not a palindrome.\")\n",
    "palindrome(string)"
   ]
  },
  {
   "cell_type": "markdown",
   "id": "d6aaac62-81d0-4f8e-9da3-436e4f1320bb",
   "metadata": {},
   "source": [
    "# 4. write a code to check if two given strings are anagrams of each other."
   ]
  },
  {
   "cell_type": "code",
   "execution_count": 5,
   "id": "e6c97702-844f-4f46-b2ff-804b3140c217",
   "metadata": {},
   "outputs": [
    {
     "name": "stdin",
     "output_type": "stream",
     "text": [
      "please enter string1:  listen\n",
      "please enter string2:  prata\n"
     ]
    },
    {
     "name": "stdout",
     "output_type": "stream",
     "text": [
      "Not Anagrams\n"
     ]
    }
   ],
   "source": [
    "s1 = input(\"please enter string1: \")\n",
    "s2 = input(\"please enter string2: \")\n",
    "\n",
    "if len(s1)!=len(s2):\n",
    "    print(\"Not Anagrams\")\n",
    "else:\n",
    "    if sorted(s1)==sorted(s2):\n",
    "        print(\"Strings are Anagrams\")\n",
    "    else:\n",
    "        print(\"Not anagrams\")"
   ]
  },
  {
   "cell_type": "markdown",
   "id": "57b04119-caf8-4410-b704-c22f7861059f",
   "metadata": {},
   "source": [
    "# 5. Write a code to find all occurences of a given substring within another string."
   ]
  },
  {
   "cell_type": "code",
   "execution_count": 7,
   "id": "d757ba5f-adb9-43f5-a70a-afaef5805301",
   "metadata": {},
   "outputs": [
    {
     "name": "stdin",
     "output_type": "stream",
     "text": [
      "Please enter your string:  pratap\n"
     ]
    },
    {
     "name": "stdout",
     "output_type": "stream",
     "text": [
      "['p', 'pr', 'pra', 'prat', 'prata', 'pratap', 'r', 'ra', 'rat', 'rata', 'ratap', 'a', 'at', 'ata', 'atap', 't', 'ta', 'tap', 'a', 'ap', 'p']\n"
     ]
    }
   ],
   "source": [
    "str = input(\"Please enter your string: \")\n",
    "subs = []\n",
    "for i in range(0,len(str)):\n",
    "    for j in range(i+1,len(str)+1):\n",
    "        subs.append(str[i:j])\n",
    "print(subs)"
   ]
  },
  {
   "cell_type": "markdown",
   "id": "5da9b79d-2e08-4990-b271-8d60fd4dfe56",
   "metadata": {},
   "source": [
    "# 6. Write a code to perform basic string compression using the counts of repeated characters."
   ]
  },
  {
   "cell_type": "code",
   "execution_count": 24,
   "id": "51c647a3-cbe7-4d4f-b212-bbb0b847fd71",
   "metadata": {},
   "outputs": [
    {
     "name": "stdin",
     "output_type": "stream",
     "text": [
      "Please enter string value:  aaaassshhhjjjjkklloiieeiii\n"
     ]
    },
    {
     "name": "stdout",
     "output_type": "stream",
     "text": [
      "a   4 times\n",
      "s   3 times\n",
      "h   3 times\n",
      "j   4 times\n",
      "k   2 times\n",
      "l   2 times\n",
      "o   1 times\n",
      "i   5 times\n",
      "e   2 times\n"
     ]
    }
   ],
   "source": [
    "string = input(\"Please enter string value: \")\n",
    "lst = []\n",
    "\n",
    "for data in string:\n",
    "    if data not in lst:\n",
    "        lst.append(data)\n",
    "for char in lst:\n",
    "    print(char, \" \",string.count(char),\"times\")"
   ]
  },
  {
   "cell_type": "markdown",
   "id": "31be73aa-0bc5-4ea1-920b-587452874c48",
   "metadata": {},
   "source": [
    "# 7. Write a code to determine if a string has all unique characters."
   ]
  },
  {
   "cell_type": "code",
   "execution_count": 16,
   "id": "bf0436d9-4468-4133-a0d3-a248842924b3",
   "metadata": {
    "scrolled": true
   },
   "outputs": [
    {
     "name": "stdin",
     "output_type": "stream",
     "text": [
      "Enter a string: mn\n"
     ]
    },
    {
     "name": "stdout",
     "output_type": "stream",
     "text": [
      "The string mn contains all unique elements\n"
     ]
    }
   ],
   "source": [
    "def unique_char(s):\n",
    "    \n",
    "    sorted_s = sorted(s) # sort the string\n",
    "\n",
    "    # iterate over the sorted string and check for adjacent duplicates\n",
    "    for i in range(len(sorted_s)-1):\n",
    "        if sorted_s[i]==sorted_s[i+1]:\n",
    "            return False\n",
    "    return True\n",
    "    \n",
    "s = input(\"Enter a string:\").lower()\n",
    "\n",
    "# check if the string has all unique characters\n",
    "if unique_char(s):\n",
    "    print(\"The string\",s,\"contains all unique elements\")\n",
    "else:\n",
    "    print(\"The string\",s,\"contains all duplicate elements\")"
   ]
  },
  {
   "cell_type": "markdown",
   "id": "8a882f12-0846-4942-8539-26595e801c4f",
   "metadata": {},
   "source": [
    "# 8. Write a code to convert a given string to uppercase or lowercase."
   ]
  },
  {
   "cell_type": "code",
   "execution_count": 23,
   "id": "e0038764-7233-4fdd-8a3a-85fd22697ee6",
   "metadata": {},
   "outputs": [
    {
     "name": "stdin",
     "output_type": "stream",
     "text": [
      "input a string:  pratap\n"
     ]
    },
    {
     "name": "stdout",
     "output_type": "stream",
     "text": [
      "PRATAP\n"
     ]
    }
   ],
   "source": [
    "word =input(\"input a string: \")\n",
    "word1 = ''\n",
    "for i in word:\n",
    "    if(i.isupper())==True:\n",
    "        word1+=(i.lower())\n",
    "    elif(i.islower())==True:\n",
    "        word1+=(i.upper())\n",
    "print(word1)"
   ]
  },
  {
   "cell_type": "markdown",
   "id": "e1bd3f95-8925-40f3-bb48-cc8357416d7f",
   "metadata": {},
   "source": [
    "# 9. Write a code to count the number of words in a string."
   ]
  },
  {
   "cell_type": "code",
   "execution_count": 27,
   "id": "a7c1f7aa-2f12-4811-90f8-0578a5ddb7e2",
   "metadata": {},
   "outputs": [
    {
     "name": "stdin",
     "output_type": "stream",
     "text": [
      "Enter a string:  peahahb bdcndb cbhjkdv jbcdkjnb xkjhvc\n"
     ]
    },
    {
     "name": "stdout",
     "output_type": "stream",
     "text": [
      "5\n"
     ]
    }
   ],
   "source": [
    "s= len(input(\"Enter a string: \").split())\n",
    "print(s)"
   ]
  },
  {
   "cell_type": "markdown",
   "id": "6a5a4909-7021-48af-b85f-8bae65646a04",
   "metadata": {},
   "source": [
    "# 10. Write a code to concatenate two strings without using the + operator."
   ]
  },
  {
   "cell_type": "code",
   "execution_count": 38,
   "id": "39ed8aca-9ceb-4584-83ad-717b0a3c3fa5",
   "metadata": {},
   "outputs": [
    {
     "name": "stdout",
     "output_type": "stream",
     "text": [
      "The concateneted strig is:pratap sarvaiya\n"
     ]
    }
   ],
   "source": [
    "str1 = 'pratap'\n",
    "str2 = 'sarvaiya'\n",
    "\n",
    "concat = ' '.join([str1,str2])\n",
    "print(f\"The concateneted strig is:{concat}\")"
   ]
  },
  {
   "cell_type": "markdown",
   "id": "6d16e771-c0f8-47b8-8295-49e3fbf93b2d",
   "metadata": {},
   "source": [
    "# 11. Write a code to remove all occurrences of a specific element from a list."
   ]
  },
  {
   "cell_type": "code",
   "execution_count": 44,
   "id": "c30ea380-607d-4ce5-b6e8-2948f4bead86",
   "metadata": {},
   "outputs": [
    {
     "name": "stdout",
     "output_type": "stream",
     "text": [
      "[1, 2, 3, 4, 6, 7, 8, 9, 0]\n"
     ]
    }
   ],
   "source": [
    "# \"occurrences\" typically refers to how many times a specific element (like a character, word, or number) appears in a sequence, such as a string or a list.\n",
    "nums = [1,2,3,4,5,6,7,8,5,9,5,0,5]\n",
    "\n",
    "# count the number of times, 5 has appeared in the list\n",
    "frequency = nums.count(5)\n",
    "for i in range(frequency):\n",
    "    nums.remove(5)\n",
    "print(nums)"
   ]
  },
  {
   "cell_type": "markdown",
   "id": "6a08136d-21bf-4439-bf5d-d72ff469a96c",
   "metadata": {},
   "source": [
    "# 12. Implement a code to find the second largest number in a given list of integers."
   ]
  },
  {
   "cell_type": "code",
   "execution_count": 2,
   "id": "b7712489-6182-4fcb-ad16-544177ee5476",
   "metadata": {},
   "outputs": [
    {
     "name": "stdout",
     "output_type": "stream",
     "text": [
      "[4, 5, 6, 7, 9, 10, 20]\n",
      "second largest number is: 10\n"
     ]
    }
   ],
   "source": [
    "# sorting and then second largest element\n",
    "l = [9,4,5,6,20,7,10]\n",
    "l.sort()\n",
    "print(l)\n",
    "print(\"second largest number is:\",l[-2])"
   ]
  },
  {
   "cell_type": "code",
   "execution_count": 5,
   "id": "1dcf4651-c539-4477-9f31-7e9c4c2fc833",
   "metadata": {},
   "outputs": [
    {
     "name": "stdout",
     "output_type": "stream",
     "text": [
      "230\n"
     ]
    }
   ],
   "source": [
    "# manual way\n",
    "nums = [20,230,23,45,67,78,98,65,100,300]\n",
    "largest=nums[0]\n",
    "sec_largest=nums[0]\n",
    "for i in range(len(nums)):\n",
    "    if nums[i]>largest:\n",
    "        largest=nums[i]\n",
    "\n",
    "for i in range(len(nums)):\n",
    "    if nums[i]>sec_largest and nums[i]!=largest:\n",
    "        sec_largest=nums[i]\n",
    "\n",
    "print(sec_largest)"
   ]
  },
  {
   "cell_type": "code",
   "execution_count": null,
   "id": "f25b7168-4727-4889-91ca-66cbd880fa3d",
   "metadata": {},
   "outputs": [],
   "source": []
  },
  {
   "cell_type": "markdown",
   "id": "83241948-2610-4e9d-9887-3079fd97d260",
   "metadata": {},
   "source": [
    "# 13. Create a code to count the occurrences of each element in a list and return a dictionary with element as keys and their counts as values."
   ]
  },
  {
   "cell_type": "code",
   "execution_count": 7,
   "id": "cc2d939a-f6b8-43a6-8987-b1c9a3fd7850",
   "metadata": {},
   "outputs": [
    {
     "name": "stdout",
     "output_type": "stream",
     "text": [
      "{1: 4, 2: 2, 3: 2, 'hello': 2, 'world': 1, 7.7: 2, 99: 1, 100: 1}\n"
     ]
    }
   ],
   "source": [
    "my_list = [1,2,3,\"hello\",1,1,2,3,\"world\",\"hello\",7.7,7.7,99,1,100]\n",
    "freq = {element: my_list.count(element) for element in my_list}\n",
    "print(freq)"
   ]
  },
  {
   "cell_type": "markdown",
   "id": "c49bb454-eb51-4e27-ae4b-cb318aa0164c",
   "metadata": {},
   "source": [
    "# 14. Write a code to reverse a list in-place without using any built-in reverse functions."
   ]
  },
  {
   "cell_type": "code",
   "execution_count": 8,
   "id": "85be604a-b272-4bb1-bfd1-5623a1c1681b",
   "metadata": {},
   "outputs": [
    {
     "name": "stdout",
     "output_type": "stream",
     "text": [
      "[9, 8, 7, 6, 5]\n"
     ]
    }
   ],
   "source": [
    "# method:-1\n",
    "\n",
    "numbers = [5,6,7,8,9]\n",
    "for i in range(len(numbers)):\n",
    "    numbers.insert(i,numbers.pop())\n",
    "\n",
    "print(numbers)"
   ]
  },
  {
   "cell_type": "code",
   "execution_count": 10,
   "id": "848f693a-de9d-4885-bf82-59e98ede0d77",
   "metadata": {},
   "outputs": [
    {
     "name": "stdout",
     "output_type": "stream",
     "text": [
      "[9, 8, 7, 6, 5]\n"
     ]
    }
   ],
   "source": [
    "numbers = [5,6,7,8,9]\n",
    "numbers = numbers[::-1]\n",
    "print(numbers)"
   ]
  },
  {
   "cell_type": "markdown",
   "id": "bad9acdd-e937-4aa2-b049-240d57279092",
   "metadata": {},
   "source": [
    "# 15. implement a code to find and remove duplicates from a list while preserving the original order of elements."
   ]
  },
  {
   "cell_type": "code",
   "execution_count": 12,
   "id": "65d5a0c3-33b5-425c-8328-85c03b7ed4b6",
   "metadata": {},
   "outputs": [
    {
     "name": "stdout",
     "output_type": "stream",
     "text": [
      "[1, 2, 3, 4, 5, 6, 7, 8, 9, 55, 66, 77]\n"
     ]
    }
   ],
   "source": [
    "list = [1,2,2,3,1,1,4,4,5,6,7,8,7,9,7,5,55,66,77]\n",
    "result=[]\n",
    "for i in list:\n",
    "    if i not in result:\n",
    "        result.append(i)\n",
    "print(result)"
   ]
  },
  {
   "cell_type": "markdown",
   "id": "8492f662-19a2-4dd8-9a2f-fd8962288c54",
   "metadata": {},
   "source": [
    "# 16. Create a code to check if a given list is sorted(either in ascending or descending order) or not."
   ]
  },
  {
   "cell_type": "code",
   "execution_count": 2,
   "id": "a572c152-341a-46ef-8e28-df261aa6a383",
   "metadata": {},
   "outputs": [
    {
     "name": "stdout",
     "output_type": "stream",
     "text": [
      "Not sorted\n"
     ]
    }
   ],
   "source": [
    "L = [91,527,37,49,95]\n",
    "flag = 0\n",
    "for i in range(0,len(L)-1):\n",
    "    if L[i] >= L[i+1]:\n",
    "        flag = 1\n",
    "        break\n",
    "if flag == 0:\n",
    "    print('Sorted')\n",
    "else:\n",
    "    print('Not sorted')"
   ]
  },
  {
   "cell_type": "markdown",
   "id": "4f942cd6-e4db-420d-b711-121692944417",
   "metadata": {},
   "source": [
    "# 17. Write a code to merge two sorted lists into ' single sorted list."
   ]
  },
  {
   "cell_type": "code",
   "execution_count": 17,
   "id": "44938dc5-ae81-481e-a2f0-f13ff9af92a5",
   "metadata": {},
   "outputs": [
    {
     "name": "stdin",
     "output_type": "stream",
     "text": [
      "Enter number of elements for list1:  2\n",
      "Enter element:  1\n",
      "Enter element:  2\n",
      "Enter number of elements for list2:  2\n",
      "Enter element:  3\n",
      "Enter element:  2\n"
     ]
    },
    {
     "name": "stdout",
     "output_type": "stream",
     "text": [
      "Merge list is: ['1', '2', '2', '3']\n"
     ]
    }
   ],
   "source": [
    "n1 = int(input('Enter number of elements for list1: '))\n",
    "l1 = []\n",
    "for i in range(1,n1+1,1):\n",
    "    a = input('Enter element: ')\n",
    "    l1.append(a)\n",
    "#print('list1',l1)\n",
    "\n",
    "n2 = int(input('Enter number of elements for list2: '))\n",
    "l2 = []\n",
    "for i in range(1,n2+1,1):\n",
    "    b = input('Enter element: ')\n",
    "    l1.append(b)\n",
    "#print('list2',l2)\n",
    "list3 = l1+l2\n",
    "list3.sort()\n",
    "print(\"Merge list is:\",list3)"
   ]
  },
  {
   "cell_type": "markdown",
   "id": "8b3bc9ec-cd87-4e9f-b682-463b887cf1f7",
   "metadata": {},
   "source": [
    "# 18. implement a code to find the intersection of two given lists."
   ]
  },
  {
   "cell_type": "code",
   "execution_count": 21,
   "id": "2384cc5c-a1f5-4b2a-b839-a0955047bb0c",
   "metadata": {},
   "outputs": [
    {
     "name": "stdout",
     "output_type": "stream",
     "text": [
      "[11, 45, 78, 98]\n"
     ]
    }
   ],
   "source": [
    "l1 = [11,33,45,65,78,98]\n",
    "l2 = [98,78,56,11,45,56]\n",
    "\n",
    "intersection_list = []\n",
    "\n",
    "for i in l1:\n",
    "    if(i in l2):\n",
    "        intersection_list.append(i)\n",
    "print(intersection_list)"
   ]
  },
  {
   "cell_type": "code",
   "execution_count": 22,
   "id": "61ef3543-3ee3-4308-baf8-e2bb3090bbc7",
   "metadata": {},
   "outputs": [
    {
     "name": "stdout",
     "output_type": "stream",
     "text": [
      "{98, 11, 45, 78}\n"
     ]
    }
   ],
   "source": [
    "# second method\n",
    "def intersection_list(l1,l2):\n",
    "    return set(l1).intersection(l2)\n",
    "\n",
    "l1 = [11,33,45,65,78,98]\n",
    "l2 = [98,78,56,11,45,56]\n",
    "print(intersection_list(l1,l2))"
   ]
  },
  {
   "cell_type": "markdown",
   "id": "496a8123-bda9-4e9d-aa20-d7d620abde27",
   "metadata": {},
   "source": [
    "# 19. Create a code to find the union of two lists without duplicates."
   ]
  },
  {
   "cell_type": "code",
   "execution_count": 24,
   "id": "c4877bb9-08b4-48ec-8120-baed262d7645",
   "metadata": {},
   "outputs": [
    {
     "name": "stdout",
     "output_type": "stream",
     "text": [
      "[1, 2, 3, 4, 5, 8]\n"
     ]
    }
   ],
   "source": [
    "l1 = [4,3,2,1]\n",
    "l2 = [1,4,5,3,8] \n",
    "l3 = l1+l2\n",
    "l3 = set(l3)\n",
    "print(list(l3))"
   ]
  },
  {
   "cell_type": "markdown",
   "id": "ca95c7a9-68fd-4270-9b86-0e22ea43426b",
   "metadata": {},
   "source": [
    "# 20. Write a code to shuffle a given list randomly without using any built-in shuffle functions."
   ]
  },
  {
   "cell_type": "code",
   "execution_count": 27,
   "id": "e6fafa90-3631-4fb2-b316-4ab757e29bfe",
   "metadata": {},
   "outputs": [
    {
     "name": "stdout",
     "output_type": "stream",
     "text": [
      "Shuffled List: [9, 4, 5, 6, 7, 3, 8, 1, 2]\n"
     ]
    }
   ],
   "source": [
    "def shuffle_list(lst):\n",
    "    \n",
    "    # Iterate over the list from the last element to the first\n",
    "    for i in range(len(lst) -1,0,-1):\n",
    "        \n",
    "        # Generate a random index to swap with\n",
    "        j = random.randint(0,i)\n",
    "        \n",
    "        # Swap the current element with the randomly selected element\n",
    "        lst[i],lst[j] = lst[j],lst[i]\n",
    "\n",
    "L = [1,2,3,4,5,6,7,8,9]\n",
    "shuffle_list(L)\n",
    "print('Shuffled List:',L)"
   ]
  },
  {
   "cell_type": "markdown",
   "id": "7401e5d0-4eeb-44ad-8d32-19c272ae1923",
   "metadata": {},
   "source": [
    "# 21. Write a code that takes two tuples as input and returns a new tuple containing elements that are common to both input tuples."
   ]
  },
  {
   "cell_type": "code",
   "execution_count": 29,
   "id": "97ad38ac-6a9e-4788-a8b0-8e562a15505b",
   "metadata": {},
   "outputs": [
    {
     "name": "stdout",
     "output_type": "stream",
     "text": [
      "common elements: (3, 4, 5)\n"
     ]
    }
   ],
   "source": [
    "def common_elements(tuple1,tuple2):\n",
    "    # convert the tuples to sets and find the intersection \n",
    "    common_set = set(tuple1) & set(tuple2)\n",
    "    return tuple(common_set) # convert the resulting set back to a tuple\n",
    "tuple1 = (1,2,3,4,5)\n",
    "tuple2 = (4,5,6,3,8)\n",
    "\n",
    "result = common_elements(tuple1,tuple2)\n",
    "print('common elements:',result)"
   ]
  },
  {
   "cell_type": "markdown",
   "id": "9548eebd-1849-45b6-a801-fc5abfd3c2bd",
   "metadata": {},
   "source": [
    "# 22. Create a code that prompts the user to enter two sets of integers separated by commas.Then,print the intersection of these two sets."
   ]
  },
  {
   "cell_type": "code",
   "execution_count": 30,
   "id": "a1df2609-d60d-4f20-8bdb-19c70c08429a",
   "metadata": {},
   "outputs": [
    {
     "name": "stdin",
     "output_type": "stream",
     "text": [
      "Enter the first set of integers, separated by commas:  1,2,3,4,7,8,9\n",
      "Enter the second set of integers, separated by commas:  9,5,6,78,9,32,6,1,2,3\n"
     ]
    },
    {
     "name": "stdout",
     "output_type": "stream",
     "text": [
      "Intersection of two set: {1, 2, 3, 9}\n"
     ]
    }
   ],
   "source": [
    "def set_from_input(prompt):\n",
    "    user_input = input(prompt)\n",
    "    return set(map(int,user_input.split(',')))\n",
    "\n",
    "set1 = set_from_input(\"Enter the first set of integers, separated by commas: \")\n",
    "set2 = set_from_input(\"Enter the second set of integers, separated by commas: \")\n",
    "\n",
    "intersection = set1 & set2\n",
    "print('Intersection of two set:',intersection)"
   ]
  },
  {
   "cell_type": "markdown",
   "id": "0f464664-a8bc-456c-8d2b-cf8f932bb1ff",
   "metadata": {},
   "source": [
    "# 23. Write a code to concatenate two tuples.The function should take two tuples as input and return a new tuple containing elements from both input tuples."
   ]
  },
  {
   "cell_type": "code",
   "execution_count": 6,
   "id": "4a5920d5-ece3-4f1a-9f7a-f7394a6fa7dd",
   "metadata": {},
   "outputs": [
    {
     "name": "stdout",
     "output_type": "stream",
     "text": [
      "Tuple after conacatenating: (1, 2, 3, 4, 5, 2, 7, 8, 9)\n"
     ]
    }
   ],
   "source": [
    "tup1 = (1,2,3,4)\n",
    "tup2 = (5,2,7,8,9)\n",
    "\n",
    "res = tup1 + tup2\n",
    "print('Tuple after conacatenating:',res)"
   ]
  },
  {
   "cell_type": "markdown",
   "id": "57667cc5-8573-4979-8b58-bb3c216d9e68",
   "metadata": {},
   "source": [
    "# 25. Develop a code that prompts the user to input two sets of strings. Then, print the elements that are present in the first set but not in the second set."
   ]
  },
  {
   "cell_type": "code",
   "execution_count": 15,
   "id": "30e5726e-011e-49c3-84e2-caee5af0c716",
   "metadata": {},
   "outputs": [
    {
     "name": "stdin",
     "output_type": "stream",
     "text": [
      "Enter elements of the first set:  yt ok lkj\n",
      "Enter elements of the second set:  gh klo opk\n"
     ]
    },
    {
     "name": "stdout",
     "output_type": "stream",
     "text": [
      "Element in the first set but not in the second set:  {'yt', 'lkj', 'ok'}\n"
     ]
    }
   ],
   "source": [
    "set1 = input_set(\"Enter elements of the first set(separated spaces): \")\n",
    "set2 = input_set(\"Enter elements of the second set(separated spaces): \")\n",
    "\n",
    "difference = set1-set2\n",
    "print(\"Element in the first set but not in the second set: \",difference)"
   ]
  },
  {
   "cell_type": "markdown",
   "id": "c8abe6ef-18dd-4a8e-abf2-ae1a50e87d44",
   "metadata": {},
   "source": [
    "# 26. Write a code that prompts the user to input two sets of characters. Then,print the union of these two sets."
   ]
  },
  {
   "cell_type": "code",
   "execution_count": 3,
   "id": "3ba55fb9-3e30-4b78-8307-05b5f63335d8",
   "metadata": {},
   "outputs": [
    {
     "name": "stdin",
     "output_type": "stream",
     "text": [
      "Enter the first set of characters:  abcdef\n",
      "Enter the second set of characters:  ghijkl\n"
     ]
    },
    {
     "name": "stdout",
     "output_type": "stream",
     "text": [
      "The union of the two sets is: {'e', 'a', 'f', 'd', 'h', 'l', 'j', 'g', 'k', 'b', 'c', 'i'}\n"
     ]
    }
   ],
   "source": [
    "set1 = set(input(\"Enter the first set of characters: \"))\n",
    "set2 = set(input(\"Enter the second set of characters: \"))\n",
    "\n",
    "union_set = set1.union(set2)\n",
    "print(\"The union of the two sets is:\",union_set)"
   ]
  },
  {
   "cell_type": "markdown",
   "id": "6a3eb186-f83d-448b-8e28-113c34e0e5de",
   "metadata": {},
   "source": [
    "# 27. Develop a code that takes a tuple of integers as input. The function should return the maximum and minimum values from the tuple using unpacking. "
   ]
  },
  {
   "cell_type": "code",
   "execution_count": 1,
   "id": "b5766ed1-e0c5-4d14-9683-1a6a16690456",
   "metadata": {},
   "outputs": [
    {
     "name": "stdout",
     "output_type": "stream",
     "text": [
      "Minimum: 3, Maximum: 10\n"
     ]
    }
   ],
   "source": [
    "def find_min_max(numbers):\n",
    "    return min(*numbers), max(*numbers)\n",
    "\n",
    "nums = (3,5,6,7,8,9,10)\n",
    "min_value,max_value = find_min_max(nums)\n",
    "print(f\"Minimum: {min_value}, Maximum: {max_value}\")\n"
   ]
  },
  {
   "cell_type": "markdown",
   "id": "421c6928-05ef-494f-8669-fbdc2d3d4027",
   "metadata": {},
   "source": [
    "# 28. Create a code that defines two sets of integers.Then,print the union,intersection,and difference of these two sets."
   ]
  },
  {
   "cell_type": "code",
   "execution_count": 20,
   "id": "fee4071a-df19-4558-acf1-365414b6d346",
   "metadata": {},
   "outputs": [
    {
     "name": "stdout",
     "output_type": "stream",
     "text": [
      "Two sets of union:{2, 3, 4, 5, 6, 7, 8, 9, 10, 45, 23}\n",
      "Two sets of intersecton: {8, 4, 7}\n",
      "Two sets of difference: {2, 3, 5, 6, 9}\n"
     ]
    }
   ],
   "source": [
    "set1 = {2,3,4,5,6,7,8,9}\n",
    "set2 = {23,45,23,4,7,8,10}\n",
    "\n",
    "union = set1.union(set2)\n",
    "intersection = set1 & set2\n",
    "difference = set1-set2\n",
    "print(f\"Two sets of union:{union}\")\n",
    "print(\"Two sets of intersecton:\",intersection)\n",
    "print(\"Two sets of difference:\",difference)"
   ]
  },
  {
   "cell_type": "markdown",
   "id": "d27b845a-d0f4-45ab-a3e5-61833090578a",
   "metadata": {},
   "source": [
    "# 29. Write a code that takes a tuple and an element as input. The function should return the count of occurrences of the given element in the tuple."
   ]
  },
  {
   "cell_type": "code",
   "execution_count": 22,
   "id": "5a84328a-f13c-4ac8-8045-b653bc6fdce2",
   "metadata": {},
   "outputs": [
    {
     "name": "stdout",
     "output_type": "stream",
     "text": [
      "The count of 1 is: 3\n",
      "The count of 3 is: 1\n"
     ]
    }
   ],
   "source": [
    "numbers = (1,3,4,1,6,1)\n",
    "\n",
    "count = numbers.count(1) # count the number\n",
    "print('The count of 1 is:',count)\n",
    "\n",
    "count = numbers.count(3)\n",
    "print('The count of 3 is:',count)"
   ]
  },
  {
   "cell_type": "markdown",
   "id": "06b949af-e82a-494b-a238-4de2083c96ca",
   "metadata": {},
   "source": [
    "# 30. Develop a code that prompts the user to input of strings.Then,print the symmetric difference of these two sets."
   ]
  },
  {
   "cell_type": "code",
   "execution_count": 28,
   "id": "d9f70986-17df-49f2-9e1b-03711f3b319d",
   "metadata": {},
   "outputs": [
    {
     "name": "stdin",
     "output_type": "stream",
     "text": [
      "Enter the first set of string (space-separated):  er io pl kl ml\n",
      "Enter the second set of string (space-separated):  we rt ty kl ml\n"
     ]
    },
    {
     "name": "stdout",
     "output_type": "stream",
     "text": [
      "The symmetric difference of the two sets is: {'er', 'io', 'we', 'rt', 'ty', 'pl'}\n"
     ]
    }
   ],
   "source": [
    "set1 = set(input(\"Enter the first set of string (space-separated): \").split())\n",
    "set2 = set(input(\"Enter the second set of string (space-separated): \").split())\n",
    "\n",
    "sym_diff = set1.symmetric_difference(set2)\n",
    "print('The symmetric difference of the two sets is:',sym_diff)"
   ]
  },
  {
   "cell_type": "markdown",
   "id": "d61699af-0b4e-4f1c-817e-e015b4af7909",
   "metadata": {},
   "source": [
    "# 31. Write a code that takes a list of words as input and returns a dictionary where the keys are unique words and the values are the frequencies of those words in the input list."
   ]
  },
  {
   "cell_type": "code",
   "execution_count": 1,
   "id": "e4432ab2-b0b9-4a47-a3f7-1f754baa45cd",
   "metadata": {},
   "outputs": [
    {
     "name": "stdout",
     "output_type": "stream",
     "text": [
      "{'apple': 3, 'banana': 2, 'orange': 1}\n"
     ]
    }
   ],
   "source": [
    "def word_frequencies(word_list):\n",
    "    \n",
    "    frequency_dict = {} # empty dictionary to store the word frequencies\n",
    "    \n",
    "    for word in word_list: # Iterate over ech word in the list\n",
    "        \n",
    "        if word in frequency_dict:  # if the word is already a key in the dictionary, increment its value\n",
    "            frequency_dict[word] += 1\n",
    "        else:\n",
    "            frequency_dict[word] = 1\n",
    "    return frequency_dict\n",
    "\n",
    "words = ['apple','banana','apple','orange','banana','apple']\n",
    "frequencies = word_frequencies(words)\n",
    "print(frequencies)"
   ]
  },
  {
   "cell_type": "markdown",
   "id": "50cfcbb8-467f-4300-ae8f-8b5f9b0fcf0e",
   "metadata": {},
   "source": [
    "# 32. Write a code that takes two dictionaries as input and merges them into a single dictionary.if there are common keys,the values should be added together."
   ]
  },
  {
   "cell_type": "code",
   "execution_count": 2,
   "id": "03deafd0-70b7-4f32-9ae4-52f4bb718f19",
   "metadata": {},
   "outputs": [
    {
     "name": "stdout",
     "output_type": "stream",
     "text": [
      "The new dict is: Counter({'a': 22, 'b': 8, 'd': 7, 'c': 3})\n"
     ]
    }
   ],
   "source": [
    "from collections import Counter\n",
    "dict1 = {'a':12,'b':4,'c':3}\n",
    "dict2 = {'a':10,'b':4,'d':7}\n",
    "dict = Counter(dict1) + Counter(dict2)\n",
    "print(\"The new dict is:\",dict)"
   ]
  },
  {
   "cell_type": "markdown",
   "id": "fafa54d8-9561-4b34-8990-c4953279ade7",
   "metadata": {},
   "source": [
    "# 33. Write a code to access a value in a nested dictionary.The function should take the dictionary and a list of keys as input, and return the corresponding value.if any of the keys do not exist in the dictionary,the function should return None."
   ]
  },
  {
   "cell_type": "code",
   "execution_count": 3,
   "id": "e161670b-3e08-4b41-a4cc-643ec6266c23",
   "metadata": {},
   "outputs": [
    {
     "name": "stdout",
     "output_type": "stream",
     "text": [
      "5\n",
      "None\n"
     ]
    }
   ],
   "source": [
    "def get_nested_value(nested_dict, keys):\n",
    "    current_dict = nested_dict\n",
    "\n",
    "    for key in keys:\n",
    "        if isinstance(current_dict, dict) and key in current_dict:\n",
    "            current_dict = current_dict[key]\n",
    "        else:\n",
    "            return None\n",
    "    return current_dict\n",
    "\n",
    "\n",
    "nested_dict = {\n",
    "    'a': {\n",
    "        'b': {\n",
    "            'c': 5\n",
    "        }\n",
    "    },\n",
    "    'x': {\n",
    "        'y': 10\n",
    "    }\n",
    "}\n",
    "\n",
    "# Accessing a valid nested value\n",
    "keys = ['a', 'b', 'c']\n",
    "result = get_nested_value(nested_dict, keys)\n",
    "print(result)  # Output: 5\n",
    "\n",
    "# Accessing an invalid nested value\n",
    "keys = ['x', 'z']\n",
    "result = get_nested_value(nested_dict, keys)\n",
    "print(result)  # Output: None\n"
   ]
  },
  {
   "cell_type": "markdown",
   "id": "7e563d22-4397-468d-9f9c-dc13d7b10965",
   "metadata": {},
   "source": [
    "# 34. Write a code that takes a dictionary as input and returns a sorted version of it based on the values.you can choose whether to sort in ascending or descending order."
   ]
  },
  {
   "cell_type": "code",
   "execution_count": 2,
   "id": "21105d87-82a4-401b-86f5-2b8b7dab3d45",
   "metadata": {},
   "outputs": [
    {
     "name": "stdout",
     "output_type": "stream",
     "text": [
      "Original dictionary : {1: 2, 3: 4, 4: 3, 2: 1, 0: 0}\n",
      "Dictionary in ascending order by value: [(0, 0), (2, 1), (1, 2), (4, 3), (3, 4)]\n",
      "Dictionary in descending order by value: {3: 4, 4: 3, 1: 2, 2: 1, 0: 0}\n"
     ]
    }
   ],
   "source": [
    "from collections import Counter\n",
    "import operator\n",
    "d = {1: 2, 3: 4, 4: 3, 2:1, 0: 0}\n",
    "\n",
    "print('Original dictionary :',d)\n",
    "\n",
    "sorted_d = sorted(d.items(), key=operator.itemgetter(1))\n",
    "\n",
    "print('Dictionary in ascending order by value:',sorted_d)\n",
    "\n",
    "sorted= dict( sorted(d.items(), key=operator.itemgetter(1), reverse=True))\n",
    "\n",
    "print('Dictionary in descending order by value:',sorted)"
   ]
  },
  {
   "cell_type": "markdown",
   "id": "81aaa523-a411-4958-924d-43c6ebdc7945",
   "metadata": {},
   "source": [
    "# 35. Write a code that inverts a dictionary,swapping keys and values.Ensure that the inverted dictionary correctly handles cases where multiple keys have the same value by storing the keys as a list in the inverted dictionary."
   ]
  },
  {
   "cell_type": "code",
   "execution_count": 4,
   "id": "d74ba516-14b9-4394-bb4d-4b70278f171e",
   "metadata": {},
   "outputs": [
    {
     "name": "stdout",
     "output_type": "stream",
     "text": [
      "{1: ['a', 'c'], 2: ['b'], 3: ['d']}\n"
     ]
    }
   ],
   "source": [
    "def invert_dict(d):\n",
    "    inverted = {}\n",
    "    for key, value in d.items():\n",
    "        if value not in inverted:\n",
    "            inverted[value] = [key]\n",
    "        else:\n",
    "            inverted[value].append(key)\n",
    "    return inverted\n",
    "\n",
    "original_dict = {\n",
    "    'a':1,\n",
    "    'b':2,\n",
    "    'c':1,\n",
    "    'd':3\n",
    "}\n",
    "inverted_dict = invert_dict(original_dict)\n",
    "print(inverted_dict)"
   ]
  },
  {
   "cell_type": "code",
   "execution_count": null,
   "id": "9da8c56c-f50f-473e-95a4-5b35a045f1dd",
   "metadata": {},
   "outputs": [],
   "source": []
  }
 ],
 "metadata": {
  "kernelspec": {
   "display_name": "Python 3 (ipykernel)",
   "language": "python",
   "name": "python3"
  },
  "language_info": {
   "codemirror_mode": {
    "name": "ipython",
    "version": 3
   },
   "file_extension": ".py",
   "mimetype": "text/x-python",
   "name": "python",
   "nbconvert_exporter": "python",
   "pygments_lexer": "ipython3",
   "version": "3.11.9"
  }
 },
 "nbformat": 4,
 "nbformat_minor": 5
}
