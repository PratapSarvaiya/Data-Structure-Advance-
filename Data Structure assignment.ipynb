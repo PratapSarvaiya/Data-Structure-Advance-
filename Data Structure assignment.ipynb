{
 "cells": [
  {
   "cell_type": "markdown",
   "id": "a7ddbadd-1d72-451d-a47d-bc4d61ca7776",
   "metadata": {},
   "source": [
    "# 1. write a code to reverse a string."
   ]
  },
  {
   "cell_type": "code",
   "execution_count": 1,
   "id": "a7ef281f-09c7-44b6-a706-3cbe34ec2f79",
   "metadata": {},
   "outputs": [
    {
     "data": {
      "text/plain": [
       "'patarp'"
      ]
     },
     "execution_count": 1,
     "metadata": {},
     "output_type": "execute_result"
    }
   ],
   "source": [
    "str = \"pratap\"\n",
    "str[::-1]"
   ]
  },
  {
   "cell_type": "markdown",
   "id": "78941882-4e23-4c74-9ae7-e6eb44f8c8e2",
   "metadata": {},
   "source": [
    "# 2. write a code to count the number of vowels in a string."
   ]
  },
  {
   "cell_type": "code",
   "execution_count": 2,
   "id": "45553bd4-3e07-4aef-9c27-1b229250519f",
   "metadata": {},
   "outputs": [
    {
     "name": "stdin",
     "output_type": "stream",
     "text": [
      "Text:  pratap\n"
     ]
    },
    {
     "name": "stdout",
     "output_type": "stream",
     "text": [
      "Count: 2\n"
     ]
    }
   ],
   "source": [
    "str = input(\"Text: \")\n",
    "\n",
    "count = 0\n",
    "for character in str:\n",
    "    if (character in \"aAeEiIoOuU\"):\n",
    "        count += 1\n",
    "print(\"Count:\",count)"
   ]
  },
  {
   "cell_type": "markdown",
   "id": "6050207e-74d2-4d66-85ae-1273cf5610aa",
   "metadata": {},
   "source": [
    "# 3. write a code to check if a given string is a palindrome or not."
   ]
  },
  {
   "cell_type": "code",
   "execution_count": 3,
   "id": "2651a53a-e292-42ae-9957-236c73dcb638",
   "metadata": {},
   "outputs": [
    {
     "name": "stdin",
     "output_type": "stream",
     "text": [
      "please enter the string:  madam\n"
     ]
    },
    {
     "name": "stdout",
     "output_type": "stream",
     "text": [
      "The string is palindrome.\n"
     ]
    }
   ],
   "source": [
    "string = input(\"please enter the string: \")\n",
    "def palindrome(string):\n",
    "    if(string == string[::-1]):\n",
    "        print(\"The string is palindrome.\")\n",
    "    else:\n",
    "         print(\"The string is not a palindrome.\")\n",
    "palindrome(string)"
   ]
  },
  {
   "cell_type": "markdown",
   "id": "d6aaac62-81d0-4f8e-9da3-436e4f1320bb",
   "metadata": {},
   "source": [
    "# 4. write a code to check if two given strings are anagrams of each other."
   ]
  },
  {
   "cell_type": "code",
   "execution_count": 5,
   "id": "e6c97702-844f-4f46-b2ff-804b3140c217",
   "metadata": {},
   "outputs": [
    {
     "name": "stdin",
     "output_type": "stream",
     "text": [
      "please enter string1:  listen\n",
      "please enter string2:  prata\n"
     ]
    },
    {
     "name": "stdout",
     "output_type": "stream",
     "text": [
      "Not Anagrams\n"
     ]
    }
   ],
   "source": [
    "s1 = input(\"please enter string1: \")\n",
    "s2 = input(\"please enter string2: \")\n",
    "\n",
    "if len(s1)!=len(s2):\n",
    "    print(\"Not Anagrams\")\n",
    "else:\n",
    "    if sorted(s1)==sorted(s2):\n",
    "        print(\"Strings are Anagrams\")\n",
    "    else:\n",
    "        print(\"Not anagrams\")"
   ]
  },
  {
   "cell_type": "markdown",
   "id": "57b04119-caf8-4410-b704-c22f7861059f",
   "metadata": {},
   "source": [
    "# 5. Write a code to find all occurences of a given substring within another string."
   ]
  },
  {
   "cell_type": "code",
   "execution_count": 7,
   "id": "d757ba5f-adb9-43f5-a70a-afaef5805301",
   "metadata": {},
   "outputs": [
    {
     "name": "stdin",
     "output_type": "stream",
     "text": [
      "Please enter your string:  pratap\n"
     ]
    },
    {
     "name": "stdout",
     "output_type": "stream",
     "text": [
      "['p', 'pr', 'pra', 'prat', 'prata', 'pratap', 'r', 'ra', 'rat', 'rata', 'ratap', 'a', 'at', 'ata', 'atap', 't', 'ta', 'tap', 'a', 'ap', 'p']\n"
     ]
    }
   ],
   "source": [
    "str = input(\"Please enter your string: \")\n",
    "subs = []\n",
    "for i in range(0,len(str)):\n",
    "    for j in range(i+1,len(str)+1):\n",
    "        subs.append(str[i:j])\n",
    "print(subs)"
   ]
  },
  {
   "cell_type": "markdown",
   "id": "5da9b79d-2e08-4990-b271-8d60fd4dfe56",
   "metadata": {},
   "source": [
    "# 6. Write a code to perform basic string compression using the counts of repeated characters."
   ]
  },
  {
   "cell_type": "code",
   "execution_count": 24,
   "id": "51c647a3-cbe7-4d4f-b212-bbb0b847fd71",
   "metadata": {},
   "outputs": [
    {
     "name": "stdin",
     "output_type": "stream",
     "text": [
      "Please enter string value:  aaaassshhhjjjjkklloiieeiii\n"
     ]
    },
    {
     "name": "stdout",
     "output_type": "stream",
     "text": [
      "a   4 times\n",
      "s   3 times\n",
      "h   3 times\n",
      "j   4 times\n",
      "k   2 times\n",
      "l   2 times\n",
      "o   1 times\n",
      "i   5 times\n",
      "e   2 times\n"
     ]
    }
   ],
   "source": [
    "string = input(\"Please enter string value: \")\n",
    "lst = []\n",
    "\n",
    "for data in string:\n",
    "    if data not in lst:\n",
    "        lst.append(data)\n",
    "for char in lst:\n",
    "    print(char, \" \",string.count(char),\"times\")"
   ]
  },
  {
   "cell_type": "markdown",
   "id": "31be73aa-0bc5-4ea1-920b-587452874c48",
   "metadata": {},
   "source": [
    "# 7. Write a code to determine if a string has all unique characters."
   ]
  },
  {
   "cell_type": "code",
   "execution_count": 16,
   "id": "bf0436d9-4468-4133-a0d3-a248842924b3",
   "metadata": {
    "scrolled": true
   },
   "outputs": [
    {
     "name": "stdin",
     "output_type": "stream",
     "text": [
      "Enter a string: mn\n"
     ]
    },
    {
     "name": "stdout",
     "output_type": "stream",
     "text": [
      "The string mn contains all unique elements\n"
     ]
    }
   ],
   "source": [
    "def unique_char(s):\n",
    "    \n",
    "    sorted_s = sorted(s) # sort the string\n",
    "\n",
    "    # iterate over the sorted string and check for adjacent duplicates\n",
    "    for i in range(len(sorted_s)-1):\n",
    "        if sorted_s[i]==sorted_s[i+1]:\n",
    "            return False\n",
    "    return True\n",
    "    \n",
    "s = input(\"Enter a string:\").lower()\n",
    "\n",
    "# check if the string has all unique characters\n",
    "if unique_char(s):\n",
    "    print(\"The string\",s,\"contains all unique elements\")\n",
    "else:\n",
    "    print(\"The string\",s,\"contains all duplicate elements\")"
   ]
  },
  {
   "cell_type": "markdown",
   "id": "8a882f12-0846-4942-8539-26595e801c4f",
   "metadata": {},
   "source": [
    "# 8. Write a code to convert a given string to uppercase or lowercase."
   ]
  },
  {
   "cell_type": "code",
   "execution_count": 23,
   "id": "e0038764-7233-4fdd-8a3a-85fd22697ee6",
   "metadata": {},
   "outputs": [
    {
     "name": "stdin",
     "output_type": "stream",
     "text": [
      "input a string:  pratap\n"
     ]
    },
    {
     "name": "stdout",
     "output_type": "stream",
     "text": [
      "PRATAP\n"
     ]
    }
   ],
   "source": [
    "word =input(\"input a string: \")\n",
    "word1 = ''\n",
    "for i in word:\n",
    "    if(i.isupper())==True:\n",
    "        word1+=(i.lower())\n",
    "    elif(i.islower())==True:\n",
    "        word1+=(i.upper())\n",
    "print(word1)"
   ]
  },
  {
   "cell_type": "markdown",
   "id": "e1bd3f95-8925-40f3-bb48-cc8357416d7f",
   "metadata": {},
   "source": [
    "# 9. Write a code to count the number of words in a string."
   ]
  },
  {
   "cell_type": "code",
   "execution_count": 27,
   "id": "a7c1f7aa-2f12-4811-90f8-0578a5ddb7e2",
   "metadata": {},
   "outputs": [
    {
     "name": "stdin",
     "output_type": "stream",
     "text": [
      "Enter a string:  peahahb bdcndb cbhjkdv jbcdkjnb xkjhvc\n"
     ]
    },
    {
     "name": "stdout",
     "output_type": "stream",
     "text": [
      "5\n"
     ]
    }
   ],
   "source": [
    "s= len(input(\"Enter a string: \").split())\n",
    "print(s)"
   ]
  },
  {
   "cell_type": "markdown",
   "id": "6a5a4909-7021-48af-b85f-8bae65646a04",
   "metadata": {},
   "source": [
    "# 10. Write a code to concatenate two strings without using the + operator."
   ]
  },
  {
   "cell_type": "code",
   "execution_count": 38,
   "id": "39ed8aca-9ceb-4584-83ad-717b0a3c3fa5",
   "metadata": {},
   "outputs": [
    {
     "name": "stdout",
     "output_type": "stream",
     "text": [
      "The concateneted strig is:pratap sarvaiya\n"
     ]
    }
   ],
   "source": [
    "str1 = 'pratap'\n",
    "str2 = 'sarvaiya'\n",
    "\n",
    "concat = ' '.join([str1,str2])\n",
    "print(f\"The concateneted strig is:{concat}\")"
   ]
  },
  {
   "cell_type": "markdown",
   "id": "6d16e771-c0f8-47b8-8295-49e3fbf93b2d",
   "metadata": {},
   "source": [
    "# 11. Write a code to remove all occurrences of a specific element from a list."
   ]
  },
  {
   "cell_type": "code",
   "execution_count": 44,
   "id": "c30ea380-607d-4ce5-b6e8-2948f4bead86",
   "metadata": {},
   "outputs": [
    {
     "name": "stdout",
     "output_type": "stream",
     "text": [
      "[1, 2, 3, 4, 6, 7, 8, 9, 0]\n"
     ]
    }
   ],
   "source": [
    "# \"occurrences\" typically refers to how many times a specific element (like a character, word, or number) appears in a sequence, such as a string or a list.\n",
    "nums = [1,2,3,4,5,6,7,8,5,9,5,0,5]\n",
    "\n",
    "# count the number of times, 5 has appeared in the list\n",
    "frequency = nums.count(5)\n",
    "for i in range(frequency):\n",
    "    nums.remove(5)\n",
    "print(nums)"
   ]
  },
  {
   "cell_type": "markdown",
   "id": "6a08136d-21bf-4439-bf5d-d72ff469a96c",
   "metadata": {},
   "source": [
    "# 12. Implement a code to find the second largest number in a given list of integers."
   ]
  },
  {
   "cell_type": "code",
   "execution_count": 2,
   "id": "b7712489-6182-4fcb-ad16-544177ee5476",
   "metadata": {},
   "outputs": [
    {
     "name": "stdout",
     "output_type": "stream",
     "text": [
      "[4, 5, 6, 7, 9, 10, 20]\n",
      "second largest number is: 10\n"
     ]
    }
   ],
   "source": [
    "# sorting and then second largest element\n",
    "l = [9,4,5,6,20,7,10]\n",
    "l.sort()\n",
    "print(l)\n",
    "print(\"second largest number is:\",l[-2])"
   ]
  },
  {
   "cell_type": "code",
   "execution_count": 5,
   "id": "1dcf4651-c539-4477-9f31-7e9c4c2fc833",
   "metadata": {},
   "outputs": [
    {
     "name": "stdout",
     "output_type": "stream",
     "text": [
      "230\n"
     ]
    }
   ],
   "source": [
    "# manual way\n",
    "nums = [20,230,23,45,67,78,98,65,100,300]\n",
    "largest=nums[0]\n",
    "sec_largest=nums[0]\n",
    "for i in range(len(nums)):\n",
    "    if nums[i]>largest:\n",
    "        largest=nums[i]\n",
    "\n",
    "for i in range(len(nums)):\n",
    "    if nums[i]>sec_largest and nums[i]!=largest:\n",
    "        sec_largest=nums[i]\n",
    "\n",
    "print(sec_largest)"
   ]
  },
  {
   "cell_type": "code",
   "execution_count": null,
   "id": "f25b7168-4727-4889-91ca-66cbd880fa3d",
   "metadata": {},
   "outputs": [],
   "source": []
  },
  {
   "cell_type": "markdown",
   "id": "83241948-2610-4e9d-9887-3079fd97d260",
   "metadata": {},
   "source": [
    "# 13. Create a code to count the occurrences of each element in a list and return a dictionary with element as keys and their counts as values."
   ]
  },
  {
   "cell_type": "code",
   "execution_count": 7,
   "id": "cc2d939a-f6b8-43a6-8987-b1c9a3fd7850",
   "metadata": {},
   "outputs": [
    {
     "name": "stdout",
     "output_type": "stream",
     "text": [
      "{1: 4, 2: 2, 3: 2, 'hello': 2, 'world': 1, 7.7: 2, 99: 1, 100: 1}\n"
     ]
    }
   ],
   "source": [
    "my_list = [1,2,3,\"hello\",1,1,2,3,\"world\",\"hello\",7.7,7.7,99,1,100]\n",
    "freq = {element: my_list.count(element) for element in my_list}\n",
    "print(freq)"
   ]
  },
  {
   "cell_type": "markdown",
   "id": "c49bb454-eb51-4e27-ae4b-cb318aa0164c",
   "metadata": {},
   "source": [
    "# 14. Write a code to reverse a list in-place without using any built-in reverse functions."
   ]
  },
  {
   "cell_type": "code",
   "execution_count": 8,
   "id": "85be604a-b272-4bb1-bfd1-5623a1c1681b",
   "metadata": {},
   "outputs": [
    {
     "name": "stdout",
     "output_type": "stream",
     "text": [
      "[9, 8, 7, 6, 5]\n"
     ]
    }
   ],
   "source": [
    "# method:-1\n",
    "\n",
    "numbers = [5,6,7,8,9]\n",
    "for i in range(len(numbers)):\n",
    "    numbers.insert(i,numbers.pop())\n",
    "\n",
    "print(numbers)"
   ]
  },
  {
   "cell_type": "code",
   "execution_count": 10,
   "id": "848f693a-de9d-4885-bf82-59e98ede0d77",
   "metadata": {},
   "outputs": [
    {
     "name": "stdout",
     "output_type": "stream",
     "text": [
      "[9, 8, 7, 6, 5]\n"
     ]
    }
   ],
   "source": [
    "numbers = [5,6,7,8,9]\n",
    "numbers = numbers[::-1]\n",
    "print(numbers)"
   ]
  },
  {
   "cell_type": "markdown",
   "id": "bad9acdd-e937-4aa2-b049-240d57279092",
   "metadata": {},
   "source": [
    "# 15. implement a code to find and remove duplicates from a list while preserving the original order of elements."
   ]
  },
  {
   "cell_type": "code",
   "execution_count": 12,
   "id": "65d5a0c3-33b5-425c-8328-85c03b7ed4b6",
   "metadata": {},
   "outputs": [
    {
     "name": "stdout",
     "output_type": "stream",
     "text": [
      "[1, 2, 3, 4, 5, 6, 7, 8, 9, 55, 66, 77]\n"
     ]
    }
   ],
   "source": [
    "list = [1,2,2,3,1,1,4,4,5,6,7,8,7,9,7,5,55,66,77]\n",
    "result=[]\n",
    "for i in list:\n",
    "    if i not in result:\n",
    "        result.append(i)\n",
    "print(result)"
   ]
  },
  {
   "cell_type": "markdown",
   "id": "8492f662-19a2-4dd8-9a2f-fd8962288c54",
   "metadata": {},
   "source": [
    "# 16. Create a code to check if a given list is sorted(either in ascending or descending order) or not."
   ]
  },
  {
   "cell_type": "code",
   "execution_count": 19,
   "id": "a572c152-341a-46ef-8e28-df261aa6a383",
   "metadata": {},
   "outputs": [
    {
     "name": "stdin",
     "output_type": "stream",
     "text": [
      "Enter a list:  1,2,3,4,5,68,7,6,5,4\n"
     ]
    },
    {
     "name": "stdout",
     "output_type": "stream",
     "text": [
      "Original list:  (1, 2, 3, 4, 5, 68, 7, 6, 5, 4)\n"
     ]
    },
    {
     "ename": "AttributeError",
     "evalue": "'tuple' object has no attribute 'sort'",
     "output_type": "error",
     "traceback": [
      "\u001b[1;31m---------------------------------------------------------------------------\u001b[0m",
      "\u001b[1;31mAttributeError\u001b[0m                            Traceback (most recent call last)",
      "Cell \u001b[1;32mIn[19], line 4\u001b[0m\n\u001b[0;32m      1\u001b[0m val \u001b[38;5;241m=\u001b[39m \u001b[38;5;28meval\u001b[39m(\u001b[38;5;28minput\u001b[39m(\u001b[38;5;124m\"\u001b[39m\u001b[38;5;124mEnter a list: \u001b[39m\u001b[38;5;124m\"\u001b[39m))\n\u001b[0;32m      2\u001b[0m \u001b[38;5;28mprint\u001b[39m(\u001b[38;5;124m\"\u001b[39m\u001b[38;5;124mOriginal list: \u001b[39m\u001b[38;5;124m\"\u001b[39m,val)\n\u001b[1;32m----> 4\u001b[0m \u001b[43mval\u001b[49m\u001b[38;5;241;43m.\u001b[39;49m\u001b[43msort\u001b[49m()\n\u001b[0;32m      5\u001b[0m \u001b[38;5;28mprint\u001b[39m(\u001b[38;5;124m\"\u001b[39m\u001b[38;5;124msorted in ascending order:\u001b[39m\u001b[38;5;124m\"\u001b[39m,val)\n\u001b[0;32m      7\u001b[0m val\u001b[38;5;241m.\u001b[39msort(reverse\u001b[38;5;241m=\u001b[39m\u001b[38;5;28;01mTrue\u001b[39;00m)\n",
      "\u001b[1;31mAttributeError\u001b[0m: 'tuple' object has no attribute 'sort'"
     ]
    }
   ],
   "source": [
    "val = eval(input(\"Enter a list: \"))\n",
    "print(\"Original list: \",val)\n",
    "\n",
    "val.sort()\n",
    "print(\"sorted in ascending order:\",val)\n",
    "\n",
    "val.sort(reverse=True)\n",
    "print(\"sorted in descending order:\",val)"
   ]
  },
  {
   "cell_type": "code",
   "execution_count": null,
   "id": "d721ae83-eb47-4a66-8f3c-77d60c467dbb",
   "metadata": {},
   "outputs": [],
   "source": []
  }
 ],
 "metadata": {
  "kernelspec": {
   "display_name": "Python 3 (ipykernel)",
   "language": "python",
   "name": "python3"
  },
  "language_info": {
   "codemirror_mode": {
    "name": "ipython",
    "version": 3
   },
   "file_extension": ".py",
   "mimetype": "text/x-python",
   "name": "python",
   "nbconvert_exporter": "python",
   "pygments_lexer": "ipython3",
   "version": "3.11.9"
  }
 },
 "nbformat": 4,
 "nbformat_minor": 5
}
